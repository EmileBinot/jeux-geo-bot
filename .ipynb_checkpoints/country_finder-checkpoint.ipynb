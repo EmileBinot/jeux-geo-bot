{
 "cells": [
  {
   "cell_type": "code",
   "execution_count": 1,
   "id": "9ee52274",
   "metadata": {},
   "outputs": [],
   "source": [
    "%matplotlib notebook\n",
    "\n",
    "from selenium import webdriver\n",
    "from webdriver_manager.chrome import ChromeDriverManager\n",
    "from selenium.webdriver.chrome.options import Options\n",
    "from selenium.webdriver.common.by import By\n",
    "from selenium.webdriver.support import expected_conditions as EC\n",
    "from selenium.webdriver.common.action_chains import ActionChains\n",
    "\n",
    "import time\n",
    "import cv2\n",
    "import csv\n",
    "\n",
    "from matplotlib import pyplot as plt\n",
    "\n",
    "import pandas as pd"
   ]
  },
  {
   "cell_type": "markdown",
   "id": "4834b7d4",
   "metadata": {},
   "source": [
    "## Import previous data"
   ]
  },
  {
   "cell_type": "code",
   "execution_count": 2,
   "id": "f45ab713",
   "metadata": {},
   "outputs": [],
   "source": [
    "def importRecords():\n",
    "    a = csv.DictReader(open('data.csv', encoding='utf-8'), delimiter=',', skipinitialspace=True)\n",
    "    return [x for x in a]"
   ]
  },
  {
   "cell_type": "markdown",
   "id": "1d8709ca",
   "metadata": {},
   "source": [
    "## Website management"
   ]
  },
  {
   "cell_type": "code",
   "execution_count": 3,
   "id": "7ead7646",
   "metadata": {},
   "outputs": [],
   "source": [
    "def getCountry(name):\n",
    "    for r in records:\n",
    "        if r[\"country\"] == name:\n",
    "#             print(r)\n",
    "            return [r[\"Xcentroid\"], r[\"Ycentroid\"]]\n",
    "        \n",
    "    return False\n",
    "\n",
    "def saveCountry(name, Xcentroid, Ycentroid):\n",
    "    records.append({'country': name, 'Xcentroid': Xcentroid, 'Ycentroid':Ycentroid})\n",
    "    \n",
    "def saveRecords():\n",
    "    with open('data.csv', 'w', newline='', encoding='utf-8') as f:\n",
    "        dict_writer = csv.DictWriter(f, records[0].keys())\n",
    "        dict_writer.writeheader()\n",
    "        dict_writer.writerows(records)\n",
    "        \n",
    "#print(getCountry(\"Quentin\"))\n",
    "#print(getCountry(\"Unkown\"))\n",
    "\n",
    "#saveCountry(\"Emile\", 12, 15)\n",
    "#print(getCountry(\"Emile\"))\n",
    "#saveRecords()"
   ]
  },
  {
   "cell_type": "code",
   "execution_count": 4,
   "id": "23b03325",
   "metadata": {},
   "outputs": [],
   "source": [
    "def initGame():\n",
    "    # Initialize the webdriver\n",
    "    options = Options()\n",
    "    options.add_extension(r'.\\extensions\\1.42.4_1.crx')\n",
    "    options.add_argument(\"--start-maximized\")\n",
    "    options.add_experimental_option(\"prefs\", { \n",
    "        \"profile.default_content_setting_values.notifications\": 1 \n",
    "    })\n",
    "    browser = webdriver.Chrome(ChromeDriverManager().install(),options=options)\n",
    "\n",
    "    # Open the websitet\n",
    "    #browser.get('https://www.jeux-geographiques.com/jeux-en-ligne-Jeu-Pays-d-Afrique-_pageid158.html')\n",
    "    browser.get('https://www.jeux-geographiques.com/jeux-en-ligne-Jeu-Pays-d-Amerique-du-Sud-_pageid162.html')\n",
    "    cookies_button = browser.find_element(By.XPATH, \"//button[text()=\\\"J'ACCEPTE\\\"]\").click()\n",
    "    browser.execute_script(\"document.getElementById('canvas').scrollIntoView();\")\n",
    "    browser.find_element(By.ID,'buttonStartWithoutTimer').click()\n",
    "    \n",
    "    time.sleep(2)\n",
    "    \n",
    "    return browser\n",
    "\n",
    "def closeGame(browser):\n",
    "    browser.quit()"
   ]
  },
  {
   "cell_type": "markdown",
   "id": "76a0e854",
   "metadata": {},
   "source": [
    "## Game management"
   ]
  },
  {
   "cell_type": "code",
   "execution_count": 5,
   "id": "f1c0b722",
   "metadata": {},
   "outputs": [],
   "source": [
    "w_page = 1920\n",
    "h_page = 1080\n",
    "\n",
    "y_scroll = 1076\n",
    "\n",
    "x_canva = 310\n",
    "y_canva = 1076\n",
    "w_canva = 900\n",
    "h_canva = 500\n",
    "\n",
    "x_crop = 0\n",
    "y_crop = 50\n",
    "w_crop = w_canva\n",
    "h_crop = h_canva\n",
    "\n",
    "def screenshotToSeleniumCoordinates(x_screenshot,y_screenshot) :\n",
    "    # transposes screenshot xy coordinates (relative to left top corner of img), to selenium xy coordinates (relative to center of element(canvas))\n",
    "    x_selenium = x_screenshot-448\n",
    "    y_selenium = y_screenshot-248\n",
    "    return x_selenium,y_selenium\n",
    "\n",
    "def findCountryPosition():\n",
    "    action.move_to_element_with_offset(canvas,0,0).click().perform()\n",
    "    time.sleep(0.1)\n",
    "    action.move_to_element_with_offset(canvas,0,0).click().perform()\n",
    "    time.sleep(0.1)\n",
    "    action.move_to_element_with_offset(canvas,0,0).click().perform()\n",
    "    time.sleep(0.4)\n",
    "    canvas.screenshot(\"screenshot.PNG\")\n",
    "\n",
    "    background = cv2.imread('bg_southamerica.PNG',0)[y_crop:y_crop+h_crop, x_crop:x_crop+w_crop]\n",
    "    after = cv2.imread('screenshot.PNG',0)[y_crop:y_crop+h_crop, x_crop:x_crop+w_crop]\n",
    "\n",
    "    diff = cv2.absdiff(background, after)\n",
    "    ret,thresh = cv2.threshold(diff,10,255,cv2.THRESH_BINARY)\n",
    "    canny_edges = cv2.Canny(thresh, 30, 200)\n",
    "    contours, hierarchy = cv2.findContours(thresh,cv2.RETR_EXTERNAL,cv2.CHAIN_APPROX_SIMPLE)\n",
    "\n",
    "    cXlist=[]\n",
    "    cYlist=[]\n",
    "\n",
    "    for c in contours:\n",
    "        # calculate moments for each contour\n",
    "        M = cv2.moments(c)\n",
    "        if M[\"m00\"] != 0:\n",
    "            cX = int(M[\"m10\"] / M[\"m00\"])\n",
    "            cY = int(M[\"m01\"] / M[\"m00\"])\n",
    "            cXlist.append(cX)\n",
    "            cYlist.append(cY)\n",
    "        else:\n",
    "            pass # do nothing, centroid value is not usable\n",
    "            \n",
    "    if len(cXlist) > 0:\n",
    "#         cv2.circle(diff, (cXlist[0], cYlist[0]), 5, (255, 0, 0), -1)\n",
    "#         cv2.putText(diff, \"centroid\", (cXlist[0] - 25, cYlist[0] - 25),cv2.FONT_HERSHEY_SIMPLEX, 0.5, (255, 255, 255), 2)\n",
    "#         plt.imshow(diff)\n",
    "#         plt.show()\n",
    "        return cXlist[0],cYlist[0]\n",
    "    else:\n",
    "        return False # no centroid found in list :(\n",
    "        \n",
    "        \n",
    "        \n",
    "    \n",
    "def clickOnCanva(x_click, y_click):\n",
    "    action.move_to_element(canvas).perform()\n",
    "    action.move_by_offset(x_click,y_click).click().perform()\n",
    "    \n",
    "def actionCountry(name):\n",
    "    print(name)\n",
    "    country_coordinates = getCountry(name)\n",
    "    \n",
    "    if not country_coordinates:\n",
    "        print(\"Country not found in records, trying to find it ...\")\n",
    "        coordinates = findCountryPosition()\n",
    "        \n",
    "        if not coordinates:\n",
    "            print(\"Unable to find the centroid\")\n",
    "            \n",
    "        else:\n",
    "            \n",
    "            x_click,y_click = screenshotToSeleniumCoordinates(coordinates[0],coordinates[1])\n",
    "            print(\"Centroid found, adding country to records :\")\n",
    "            print(name, coordinates)\n",
    "#             print(coordinates[0],coordinates[1])\n",
    "            saveCountry(name, x_click, y_click)\n",
    "        \n",
    "    else:\n",
    "        print(\"Country found in records :\")\n",
    "        print(name, country_coordinates)\n",
    "        clickOnCanva(country_coordinates[0], country_coordinates[1])\n",
    "    \n",
    "    print(\"\\n\")\n",
    "\n"
   ]
  },
  {
   "cell_type": "markdown",
   "id": "acc56011",
   "metadata": {},
   "source": [
    "## Run"
   ]
  },
  {
   "cell_type": "markdown",
   "id": "478e515e",
   "metadata": {},
   "source": [
    "### Learn"
   ]
  },
  {
   "cell_type": "code",
   "execution_count": 6,
   "id": "a9e75b97",
   "metadata": {},
   "outputs": [
    {
     "name": "stderr",
     "output_type": "stream",
     "text": [
      "\n",
      "\n",
      "====== WebDriver manager ======\n"
     ]
    },
    {
     "name": "stdout",
     "output_type": "stream",
     "text": [
      "Learn\n"
     ]
    },
    {
     "name": "stderr",
     "output_type": "stream",
     "text": [
      "Current google-chrome version is 100.0.4896\n",
      "Get LATEST chromedriver version for 100.0.4896 google-chrome\n",
      "Driver [C:\\Users\\emile\\.wdm\\drivers\\chromedriver\\win32\\100.0.4896.60\\chromedriver.exe] found in cache\n",
      "C:\\Users\\emile\\AppData\\Local\\Temp\\ipykernel_11664\\2623150995.py:9: DeprecationWarning: executable_path has been deprecated, please pass in a Service object\n",
      "  browser = webdriver.Chrome(ChromeDriverManager().install(),options=options)\n"
     ]
    },
    {
     "ename": "AttributeError",
     "evalue": "'NoneType' object has no attribute 'click'",
     "output_type": "error",
     "traceback": [
      "\u001b[1;31m---------------------------------------------------------------------------\u001b[0m",
      "\u001b[1;31mAttributeError\u001b[0m                            Traceback (most recent call last)",
      "Input \u001b[1;32mIn [6]\u001b[0m, in \u001b[0;36m<cell line: 4>\u001b[1;34m()\u001b[0m\n\u001b[0;32m      4\u001b[0m \u001b[38;5;28;01mfor\u001b[39;00m game \u001b[38;5;129;01min\u001b[39;00m [\u001b[38;5;124m\"\u001b[39m\u001b[38;5;124mLearn\u001b[39m\u001b[38;5;124m\"\u001b[39m , \u001b[38;5;124m\"\u001b[39m\u001b[38;5;124mWin\u001b[39m\u001b[38;5;124m\"\u001b[39m]:\n\u001b[0;32m      5\u001b[0m     \u001b[38;5;28mprint\u001b[39m(game)\n\u001b[1;32m----> 7\u001b[0m     browser \u001b[38;5;241m=\u001b[39m \u001b[43minitGame\u001b[49m\u001b[43m(\u001b[49m\u001b[43m)\u001b[49m\n\u001b[0;32m      8\u001b[0m     action \u001b[38;5;241m=\u001b[39m ActionChains(browser)\n\u001b[0;32m      9\u001b[0m     canvas \u001b[38;5;241m=\u001b[39m browser\u001b[38;5;241m.\u001b[39mfind_element(By\u001b[38;5;241m.\u001b[39mID,\u001b[38;5;124m'\u001b[39m\u001b[38;5;124mcanvas\u001b[39m\u001b[38;5;124m'\u001b[39m)\n",
      "Input \u001b[1;32mIn [4]\u001b[0m, in \u001b[0;36minitGame\u001b[1;34m()\u001b[0m\n\u001b[0;32m     11\u001b[0m \u001b[38;5;66;03m# Open the websitet\u001b[39;00m\n\u001b[0;32m     12\u001b[0m \u001b[38;5;66;03m#browser.get('https://www.jeux-geographiques.com/jeux-en-ligne-Jeu-Pays-d-Afrique-_pageid158.html')\u001b[39;00m\n\u001b[0;32m     13\u001b[0m browser\u001b[38;5;241m.\u001b[39mget(\u001b[38;5;124m'\u001b[39m\u001b[38;5;124mhttps://www.jeux-geographiques.com/jeux-en-ligne-Jeu-Pays-d-Amerique-du-Sud-_pageid162.html\u001b[39m\u001b[38;5;124m'\u001b[39m)\n\u001b[1;32m---> 14\u001b[0m cookies_button \u001b[38;5;241m=\u001b[39m \u001b[43mbrowser\u001b[49m\u001b[38;5;241;43m.\u001b[39;49m\u001b[43mfind_element\u001b[49m\u001b[43m(\u001b[49m\u001b[43mBy\u001b[49m\u001b[38;5;241;43m.\u001b[39;49m\u001b[43mXPATH\u001b[49m\u001b[43m,\u001b[49m\u001b[43m \u001b[49m\u001b[38;5;124;43m\"\u001b[39;49m\u001b[38;5;124;43m//button[text()=\u001b[39;49m\u001b[38;5;130;43;01m\\\"\u001b[39;49;00m\u001b[38;5;124;43mJ\u001b[39;49m\u001b[38;5;124;43m'\u001b[39;49m\u001b[38;5;124;43mACCEPTE\u001b[39;49m\u001b[38;5;130;43;01m\\\"\u001b[39;49;00m\u001b[38;5;124;43m]\u001b[39;49m\u001b[38;5;124;43m\"\u001b[39;49m\u001b[43m)\u001b[49m\u001b[38;5;241;43m.\u001b[39;49m\u001b[43mclick\u001b[49m()\n\u001b[0;32m     15\u001b[0m browser\u001b[38;5;241m.\u001b[39mexecute_script(\u001b[38;5;124m\"\u001b[39m\u001b[38;5;124mdocument.getElementById(\u001b[39m\u001b[38;5;124m'\u001b[39m\u001b[38;5;124mcanvas\u001b[39m\u001b[38;5;124m'\u001b[39m\u001b[38;5;124m).scrollIntoView();\u001b[39m\u001b[38;5;124m\"\u001b[39m)\n\u001b[0;32m     16\u001b[0m browser\u001b[38;5;241m.\u001b[39mfind_element(By\u001b[38;5;241m.\u001b[39mID,\u001b[38;5;124m'\u001b[39m\u001b[38;5;124mbuttonStartWithoutTimer\u001b[39m\u001b[38;5;124m'\u001b[39m)\u001b[38;5;241m.\u001b[39mclick()\n",
      "\u001b[1;31mAttributeError\u001b[0m: 'NoneType' object has no attribute 'click'"
     ]
    }
   ],
   "source": [
    "records = importRecords()\n",
    "\n",
    "## Learn & win\n",
    "for game in [\"Learn\" , \"Win\"]:\n",
    "    print(game)\n",
    "    \n",
    "    browser = initGame()\n",
    "    action = ActionChains(browser)\n",
    "    canvas = browser.find_element(By.ID,'canvas')\n",
    "    canvas.screenshot(\"bg_southamerica.PNG\") # save background for later\n",
    "\n",
    "    for i in range(15):\n",
    "\n",
    "        time.sleep(2) # wait for country name to appear\n",
    "        name = browser.find_element(By.ID,'questionTextLabel').text\n",
    "\n",
    "        actionCountry(name)\n",
    "\n",
    "    saveRecords()\n",
    "    \n",
    "    time.sleep(2)\n",
    "    closeGame(browser)\n",
    "    "
   ]
  },
  {
   "cell_type": "code",
   "execution_count": null,
   "id": "6f850d72",
   "metadata": {},
   "outputs": [],
   "source": [
    "#closeGame(browser)"
   ]
  }
 ],
 "metadata": {
  "kernelspec": {
   "display_name": "Python 3 (ipykernel)",
   "language": "python",
   "name": "python3"
  },
  "language_info": {
   "codemirror_mode": {
    "name": "ipython",
    "version": 3
   },
   "file_extension": ".py",
   "mimetype": "text/x-python",
   "name": "python",
   "nbconvert_exporter": "python",
   "pygments_lexer": "ipython3",
   "version": "3.8.13"
  }
 },
 "nbformat": 4,
 "nbformat_minor": 5
}
